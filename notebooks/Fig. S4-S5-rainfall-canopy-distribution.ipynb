{
 "cells": [
  {
   "cell_type": "code",
   "execution_count": 1,
   "metadata": {
    "collapsed": true
   },
   "outputs": [],
   "source": [
    "\n",
    "import matplotlib.pyplot as plt\n",
    "%matplotlib inline\n",
    "import numpy as np\n",
    "plt.rcParams[\"font.sans-serif\"] = \"Arial\"\n",
    "plt.rcParams['pdf.fonttype'] = 42\n",
    "plt.rcParams['ps.fonttype'] = 42\n",
    "import matplotlib\n",
    "matplotlib.rcParams.update({'font.size': 12})\n",
    "from scipy.stats.distributions import norm\n",
    "from scipy import interpolate\n",
    "import pandas as pd\n",
    "import seaborn as sns"
   ]
  },
  {
   "cell_type": "code",
   "execution_count": 2,
   "metadata": {},
   "outputs": [
    {
     "data": {
      "text/html": [
       "<div>\n",
       "<style scoped>\n",
       "    .dataframe tbody tr th:only-of-type {\n",
       "        vertical-align: middle;\n",
       "    }\n",
       "\n",
       "    .dataframe tbody tr th {\n",
       "        vertical-align: top;\n",
       "    }\n",
       "\n",
       "    .dataframe thead th {\n",
       "        text-align: right;\n",
       "    }\n",
       "</style>\n",
       "<table border=\"1\" class=\"dataframe\">\n",
       "  <thead>\n",
       "    <tr style=\"text-align: right;\">\n",
       "      <th></th>\n",
       "      <th>Unnamed: 0</th>\n",
       "      <th>id</th>\n",
       "      <th>Limiter</th>\n",
       "      <th>Name</th>\n",
       "      <th>Basin Mean Canopy Cover (%)</th>\n",
       "      <th>Basin Mean Annual Precipitation (mm)</th>\n",
       "      <th>Basin Mean Annual Temperature (deg. C)</th>\n",
       "      <th>Basin Mean Elevation (m)</th>\n",
       "      <th>Dominant Land Cover</th>\n",
       "      <th>Basin area (km^2)</th>\n",
       "      <th>Gage Latitude</th>\n",
       "      <th>Gage Longitude</th>\n",
       "      <th>SITE_NO</th>\n",
       "      <th>UNITDESC</th>\n",
       "    </tr>\n",
       "  </thead>\n",
       "  <tbody>\n",
       "    <tr>\n",
       "      <th>0</th>\n",
       "      <td>0</td>\n",
       "      <td>0</td>\n",
       "      <td>Storage capacity limited</td>\n",
       "      <td>Dry Creek (ERCZO)</td>\n",
       "      <td>20</td>\n",
       "      <td>1900</td>\n",
       "      <td>13.5</td>\n",
       "      <td>739</td>\n",
       "      <td>Grassland/Herbaceous</td>\n",
       "      <td>3</td>\n",
       "      <td>39.575400</td>\n",
       "      <td>-123.464200</td>\n",
       "      <td>0</td>\n",
       "      <td>Franciscan complex: Cretaceous and Jurassic sa...</td>\n",
       "    </tr>\n",
       "    <tr>\n",
       "      <th>1</th>\n",
       "      <td>1</td>\n",
       "      <td>11475560</td>\n",
       "      <td>Storage capacity limited</td>\n",
       "      <td>ELDER C NR BRANSCOMB CA</td>\n",
       "      <td>89</td>\n",
       "      <td>2325</td>\n",
       "      <td>12.5</td>\n",
       "      <td>870</td>\n",
       "      <td>Evergreen Forest</td>\n",
       "      <td>16</td>\n",
       "      <td>39.729600</td>\n",
       "      <td>-123.643907</td>\n",
       "      <td>11475560</td>\n",
       "      <td>Sandstone, shale and minor conglomerate in coa...</td>\n",
       "    </tr>\n",
       "    <tr>\n",
       "      <th>2</th>\n",
       "      <td>2</td>\n",
       "      <td>11475800</td>\n",
       "      <td>Storage capacity limited</td>\n",
       "      <td>SF EEL R A LEGGETT CA</td>\n",
       "      <td>73</td>\n",
       "      <td>1933</td>\n",
       "      <td>12.8</td>\n",
       "      <td>638</td>\n",
       "      <td>Evergreen Forest</td>\n",
       "      <td>642</td>\n",
       "      <td>39.874596</td>\n",
       "      <td>-123.720577</td>\n",
       "      <td>11475800</td>\n",
       "      <td>Sandstone, shale and minor conglomerate in coa...</td>\n",
       "    </tr>\n",
       "    <tr>\n",
       "      <th>3</th>\n",
       "      <td>3</td>\n",
       "      <td>11469000</td>\n",
       "      <td>Storage capacity limited</td>\n",
       "      <td>MATTOLE R NR PETROLIA CA</td>\n",
       "      <td>75</td>\n",
       "      <td>2496</td>\n",
       "      <td>12.9</td>\n",
       "      <td>425</td>\n",
       "      <td>Evergreen Forest</td>\n",
       "      <td>635</td>\n",
       "      <td>40.313191</td>\n",
       "      <td>-124.283659</td>\n",
       "      <td>11469000</td>\n",
       "      <td>Sandstone, shale and minor conglomerate in coa...</td>\n",
       "    </tr>\n",
       "    <tr>\n",
       "      <th>4</th>\n",
       "      <td>4</td>\n",
       "      <td>11449500</td>\n",
       "      <td>Storage capacity limited</td>\n",
       "      <td>KELSEY C NR KELSEYVILLE CA</td>\n",
       "      <td>47</td>\n",
       "      <td>1251</td>\n",
       "      <td>14.3</td>\n",
       "      <td>817</td>\n",
       "      <td>Shrub/Scrub</td>\n",
       "      <td>94</td>\n",
       "      <td>38.927400</td>\n",
       "      <td>-122.843605</td>\n",
       "      <td>11449500</td>\n",
       "      <td>Franciscan complex: Cretaceous and Jurassic sa...</td>\n",
       "    </tr>\n",
       "  </tbody>\n",
       "</table>\n",
       "</div>"
      ],
      "text/plain": [
       "   Unnamed: 0        id                   Limiter                        Name  \\\n",
       "0           0         0  Storage capacity limited           Dry Creek (ERCZO)   \n",
       "1           1  11475560  Storage capacity limited     ELDER C NR BRANSCOMB CA   \n",
       "2           2  11475800  Storage capacity limited       SF EEL R A LEGGETT CA   \n",
       "3           3  11469000  Storage capacity limited    MATTOLE R NR PETROLIA CA   \n",
       "4           4  11449500  Storage capacity limited  KELSEY C NR KELSEYVILLE CA   \n",
       "\n",
       "   Basin Mean Canopy Cover (%)  Basin Mean Annual Precipitation (mm)  \\\n",
       "0                           20                                  1900   \n",
       "1                           89                                  2325   \n",
       "2                           73                                  1933   \n",
       "3                           75                                  2496   \n",
       "4                           47                                  1251   \n",
       "\n",
       "   Basin Mean Annual Temperature (deg. C)  Basin Mean Elevation (m)  \\\n",
       "0                                    13.5                       739   \n",
       "1                                    12.5                       870   \n",
       "2                                    12.8                       638   \n",
       "3                                    12.9                       425   \n",
       "4                                    14.3                       817   \n",
       "\n",
       "    Dominant Land Cover  Basin area (km^2)  Gage Latitude  Gage Longitude  \\\n",
       "0  Grassland/Herbaceous                  3      39.575400     -123.464200   \n",
       "1      Evergreen Forest                 16      39.729600     -123.643907   \n",
       "2      Evergreen Forest                642      39.874596     -123.720577   \n",
       "3      Evergreen Forest                635      40.313191     -124.283659   \n",
       "4           Shrub/Scrub                 94      38.927400     -122.843605   \n",
       "\n",
       "    SITE_NO                                           UNITDESC  \n",
       "0         0  Franciscan complex: Cretaceous and Jurassic sa...  \n",
       "1  11475560  Sandstone, shale and minor conglomerate in coa...  \n",
       "2  11475800  Sandstone, shale and minor conglomerate in coa...  \n",
       "3  11469000  Sandstone, shale and minor conglomerate in coa...  \n",
       "4  11449500  Franciscan complex: Cretaceous and Jurassic sa...  "
      ]
     },
     "execution_count": 2,
     "metadata": {},
     "output_type": "execute_result"
    }
   ],
   "source": [
    "df = pd.read_csv('../data/Table S2.csv')\n",
    "df.head()"
   ]
  },
  {
   "cell_type": "code",
   "execution_count": 3,
   "metadata": {},
   "outputs": [
    {
     "data": {
      "image/png": "[encoded data removed]",
      "text/plain": [
       "<Figure size 432x288 with 1 Axes>"
      ]
     },
     "metadata": {
      "needs_background": "light"
     },
     "output_type": "display_data"
    }
   ],
   "source": [
    "sns.stripplot(x='Basin Mean Canopy Cover (%)',y='Limiter', \n",
    "              data=df,size=10,linewidth=1,jitter=.1)\n",
    "plt.savefig('../plots/FigS4.png')\n",
    "plt.savefig('../plots/FigS4.pdf')"
   ]
  },
  {
   "cell_type": "code",
   "execution_count": 4,
   "metadata": {
    "collapsed": true
   },
   "outputs": [
    {
     "data": {
      "image/png": "[encoded data removed]",
      "text/plain": [
       "<Figure size 432x288 with 1 Axes>"
      ]
     },
     "metadata": {
      "needs_background": "light"
     },
     "output_type": "display_data"
    }
   ],
   "source": [
    "sns.stripplot(x='Basin Mean Annual Precipitation (mm)',y='Limiter', \n",
    "               data=df,size=10,linewidth=1,jitter=.1)\n",
    "plt.savefig('../plots/FigS5.png')\n",
    "plt.savefig('../plots/FigS5.pdf')"
   ]
  }
 ],
 "metadata": {
  "kernelspec": {
   "display_name": "py3k",
   "language": "python",
   "name": "py3k"
  },
  "language_info": {
   "codemirror_mode": {
    "name": "ipython",
    "version": 3
   },
   "file_extension": ".py",
   "mimetype": "text/x-python",
   "name": "python",
   "nbconvert_exporter": "python",
   "pygments_lexer": "ipython3",
   "version": "3.5.5"
  }
 },
 "nbformat": 4,
 "nbformat_minor": 2
}
