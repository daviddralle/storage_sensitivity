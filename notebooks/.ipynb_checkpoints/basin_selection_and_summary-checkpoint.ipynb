{
 "cells": [
  {
   "cell_type": "markdown",
   "metadata": {},
   "source": [
    "## Jupyter (Python) notebook to (1) screen USGS basins based on a variety of selection criteria and then (2) summarize their characteristics in an output .csv table\n"
   ]
  },
  {
   "cell_type": "code",
   "execution_count": 1,
   "metadata": {},
   "outputs": [],
   "source": [
    "# Import required libraries for the analyses\n",
    "\n",
    "import geopandas as gpd\n",
    "import pandas as pd\n",
    "import matplotlib.pyplot as plt\n",
    "%matplotlib inline\n",
    "import numpy as np\n",
    "import georasters as gr\n",
    "from scipy import stats\n",
    "import warnings\n",
    "warnings.filterwarnings(\"ignore\")\n"
   ]
  },
  {
   "cell_type": "code",
   "execution_count": 2,
   "metadata": {},
   "outputs": [],
   "source": [
    "# We rely on the National Hydrography Dataset for USGS basin boundaries\n",
    "# Original file obtained from: \n",
    "# https://water.usgs.gov/GIS/metadata/usgswrd/XML/streamgagebasins.xml\n",
    "# and reprojected into UTM \n",
    "\n",
    "gages = gpd.read_file('../data/basins/basins18_utm.shp')"
   ]
  },
  {
   "cell_type": "code",
   "execution_count": 3,
   "metadata": {},
   "outputs": [],
   "source": [
    "# polygon of the non-usgs (Eel River CZO) Dry Creek watershed\n",
    "dry_ck = gpd.read_file('../data/dry_creek_polygon/dry.shp')"
   ]
  },
  {
   "cell_type": "code",
   "execution_count": 4,
   "metadata": {},
   "outputs": [],
   "source": [
    "#get the stream gage names\n",
    "gage_names = gpd.read_file('../data/USGS_gages/USGS_Streamgages-NHD_Locations.shp')\n"
   ]
  },
  {
   "cell_type": "code",
   "execution_count": 5,
   "metadata": {},
   "outputs": [],
   "source": [
    "#Create a dictionary that maps the USGS gage ID number to the station name\n",
    "id_name = dict(zip(gage_names.SITE_NO,gage_names.STATION_NM))"
   ]
  },
  {
   "cell_type": "code",
   "execution_count": 6,
   "metadata": {},
   "outputs": [],
   "source": [
    "#Read in information about dams from the GAGES II database, find sites with 0 dams\n",
    "dam_data = pd.read_csv('../data/basinchar_and_report_sept_2011/spreadsheets-in-csv-format/conterm_hydromod_dams.txt')\n",
    "no_dams = dam_data[dam_data['NDAMS_2009']==0]\n"
   ]
  },
  {
   "cell_type": "code",
   "execution_count": 7,
   "metadata": {},
   "outputs": [],
   "source": [
    "#Read in information about climate from the GAGES II database, find sites with < 20 percent precip as snow\n",
    "\n",
    "climate_data = pd.read_csv('../data/basinchar_and_report_sept_2011/spreadsheets-in-csv-format/conterm_climate.txt')\n",
    "rain_dominated = climate_data[climate_data['SNOW_PCT_PRECIP']<20]\n"
   ]
  },
  {
   "cell_type": "code",
   "execution_count": 8,
   "metadata": {},
   "outputs": [],
   "source": [
    "#find sites with < 10% of precip falling between may and september\n",
    "\n",
    "climate_data['summer_precip_pct'] = 100*(climate_data.loc[:,'MAY_PPT7100_CM':'SEP_PPT7100_CM'].sum(axis=1)/climate_data.loc[:,'JAN_PPT7100_CM':'DEC_PPT7100_CM'].sum(axis=1))\n",
    "winter_wet_summer_dry = climate_data[climate_data['summer_precip_pct']<10]\n"
   ]
  },
  {
   "cell_type": "code",
   "execution_count": 9,
   "metadata": {},
   "outputs": [],
   "source": [
    "# find sites with good flow records during months of interest\n",
    "flow_rec_data = pd.read_csv('../data/basinchar_and_report_sept_2011/spreadsheets-in-csv-format/conterm_flowrec.txt')\n",
    "flow_rec_data['goodyears'] = flow_rec_data.iloc[:,-8:-1].sum(axis=1)\n",
    "good_flow_rec = flow_rec_data[flow_rec_data['goodyears']== 7]\n"
   ]
  },
  {
   "cell_type": "code",
   "execution_count": 10,
   "metadata": {},
   "outputs": [
    {
     "name": "stdout",
     "output_type": "stream",
     "text": [
      "1240\n",
      "592\n",
      "71\n",
      "64\n"
     ]
    }
   ],
   "source": [
    "#narrow the list of study gages (represented by their station IDS, or STAID)\n",
    "#by intersecting the set of each criteria. print the number of stations within the subset each time\n",
    "\n",
    "study_gages = set(no_dams.STAID).intersection(rain_dominated.STAID)\n",
    "print(len(study_gages))\n",
    "study_gages = study_gages.intersection(good_flow_rec.STAID)\n",
    "print(len(study_gages))\n",
    "study_gages = study_gages.intersection(winter_wet_summer_dry.STAID)\n",
    "print(len(study_gages))\n",
    "study_gages = study_gages.intersection(gages.SITE_NO.astype(int))\n",
    "print(len(study_gages))\n"
   ]
  },
  {
   "cell_type": "code",
   "execution_count": 11,
   "metadata": {},
   "outputs": [],
   "source": [
    "study_gages.add(11475800) # add back in the gage 11475800 SF EEL R A LEGGETT, which was excluded due to presence of dam\n",
    "#this dam is only operational in the summer, however, and does not affect the winter storage calculations"
   ]
  },
  {
   "cell_type": "code",
   "execution_count": 12,
   "metadata": {},
   "outputs": [],
   "source": [
    "# Read in the National Land Cover Database (NLCD)\n",
    "#source: https://www.mrlc.gov/nlcd2011.php\n",
    "#original raster file has been converted to UTM and clipped to California\n",
    "landcover = gr.from_file('../data/landcover/cal_landcover_utm10N.tif')\n"
   ]
  },
  {
   "cell_type": "code",
   "execution_count": 13,
   "metadata": {},
   "outputs": [],
   "source": [
    "#determine the percentage of 'developed' landcover in each polygon\n",
    "#create empty list\n",
    "land_cover_developed_pct = []\n",
    "missing_gages=[]\n",
    "#loop through study gages, \n",
    "gages['SITE_NO'] = gages['SITE_NO'].astype(str)\n",
    "for gage in list(study_gages):\n",
    "    gage = str(gage)\n",
    "    #get the basin polygon\n",
    "    basin_polygon = gages[gages.SITE_NO==gage].geometry\n",
    "    #clip the landcover raster to this polygon\n",
    "    r_basin = landcover.clip(basin_polygon)[0]\n",
    "    #convert all the pixel values of this raster to one long array\n",
    "    pixel_values =  r_basin.raster.data.flatten().astype(int)\n",
    "    #determine the percent developed based on the NLCD legend, https://www.mrlc.gov/nlcd11_leg.php\n",
    "    pct_developed = 100*(np.count_nonzero(pixel_values == 22)+\n",
    "                         np.count_nonzero(pixel_values == 23)+\n",
    "                         np.count_nonzero(pixel_values == 24))/np.count_nonzero(pixel_values)\n",
    "    land_cover_developed_pct.append(pct_developed)\n",
    "  \n",
    "            \n",
    "land_cover_developed_pct=np.array(land_cover_developed_pct)"
   ]
  },
  {
   "cell_type": "code",
   "execution_count": 14,
   "metadata": {},
   "outputs": [],
   "source": [
    "#subset the study gages again to exclude sites with > 10% developed cover\n",
    "study_gages = np.array(list(study_gages))[land_cover_developed_pct<10]"
   ]
  },
  {
   "cell_type": "code",
   "execution_count": 15,
   "metadata": {},
   "outputs": [],
   "source": [
    "\n",
    "#Perform a similar operation, this time with 'cultivated' lands\n",
    "\n",
    "land_cover_cultivated_pct = []\n",
    "for gage in list(study_gages):\n",
    "    gage = str(gage)\n",
    "    pct_cultivated = 0\n",
    "    basin_polygon = gages[gages.SITE_NO==gage].geometry\n",
    "    r_basin = landcover.clip(basin_polygon)[0]\n",
    "    pixel_values =  r_basin.raster.data.flatten().astype(int)\n",
    "\n",
    "    pct_cultivated = 100*(float(np.count_nonzero(pixel_values == 82))/np.count_nonzero(pixel_values))\n",
    "    land_cover_cultivated_pct.append(pct_cultivated)\n",
    "land_cover_cultivated_pct=np.array(land_cover_cultivated_pct)"
   ]
  },
  {
   "cell_type": "code",
   "execution_count": 16,
   "metadata": {},
   "outputs": [],
   "source": [
    "study_gages = np.array(list(study_gages))[land_cover_cultivated_pct<5]"
   ]
  },
  {
   "cell_type": "code",
   "execution_count": 17,
   "metadata": {},
   "outputs": [],
   "source": [
    "#The site_fires.csv data table lists the intersection of every California USGS gaged basin with a shapefile of burned area polygons\n",
    "# The resulting table lists the fraction of the basin that was burned in a particular year\n",
    "# The accompanying notebook 'get_site_fires.ipynb' shows how the .csv was created from the original data\n",
    "#original data source: http://frap.fire.ca.gov/data/frapgisdata-sw-fireperimeters_download\n",
    "\n",
    "fires = pd.read_csv('../data/site_fires.csv')\n",
    "fires.head()\n",
    "\n",
    "\n",
    "fire_threshold_year = 1990\n",
    "fire_threshold_size_fraction = 0.2\n",
    "\n",
    "#Only consider fires post 1990 - \n",
    "recent_fires = fires[fires.fire_year >=fire_threshold_year]\n",
    "\n",
    "site_group = recent_fires.groupby(['USGS Basin'])\n",
    "\n",
    "#sum the total fraction of each burned catchment (this may include 'double counting' of areas that burned twice)\n",
    "total_fraction_burned = site_group['fraction_catchment'].agg('sum').reset_index()\n",
    "\n",
    "#subset the places where more than 20% of the basin burned\n",
    "recent_large_fires = total_fraction_burned[total_fraction_burned.fraction_catchment>fire_threshold_size_fraction]\n",
    "#get the resulting list of sites and filter them from the study basins\n",
    "burned_sites = np.unique(recent_large_fires['USGS Basin'])\n",
    "study_gages = set(study_gages)-set(burned_sites)\n"
   ]
  },
  {
   "cell_type": "code",
   "execution_count": 18,
   "metadata": {},
   "outputs": [],
   "source": [
    "# Perform a similar analysis where the basins have been intersected with a geospatial logging layer\n",
    "#this lists locations where a timber harvest plan of 'clearcut' or 'commercial thin completed' has been achieved\n",
    "\n",
    "#The original data source is: ftp://ftp.fire.ca.gov/forest/Statewide_Timber_Harvest/\n",
    "# these layers were reduced with the 'tabulate intersection' tool in ArcGIS, http://pro.arcgis.com/en/pro-app/tool-reference/analysis/tabulate-intersection.htm\n",
    "\n",
    "logging = pd.read_csv('../data/Cal_USGS_Basins_TabulatedIntersection_THP_Clearcut_or_CommercialThin_Completed.csv')\n",
    "\n",
    "logging_threshold_size_fraction = 20 #%\n",
    "\n",
    "\n",
    "site_group = logging.groupby(['SITE_NO'])\n",
    "\n",
    "total_fraction_logged = site_group['PERCENTAGE'].agg('sum').reset_index()\n",
    "\n",
    "recent_large_fires = total_fraction_logged[total_fraction_logged.PERCENTAGE>logging_threshold_size_fraction]\n",
    "\n",
    "logged_sites = np.unique(recent_large_fires['SITE_NO'])\n",
    "study_gages = set(study_gages)-set(logged_sites)\n"
   ]
  },
  {
   "cell_type": "code",
   "execution_count": 19,
   "metadata": {},
   "outputs": [],
   "source": [
    "#add the non-USGS Dry Ck. (Eel River Critical Zone Observatory) to the list\n",
    "study_gages.add('0000') #add dry ck\n",
    "gages.loc[len(gages)] = [np.nan,'0000',1.37,dry_ck.iloc[0].geometry]\n",
    "id_name['0000'] = 'Dry Creek (ERCZO)'"
   ]
  },
  {
   "cell_type": "code",
   "execution_count": 20,
   "metadata": {},
   "outputs": [],
   "source": [
    "#Remove two gages that have excessive water extraction, based on the USGS Water Year Summary Remarks\n",
    "study_gages.remove(11169500) #Saratoga Ck - water diverted for municipal use by San Jose Water Works\n",
    "study_gages.remove(11160000) #Soquel Ck - many diversions upstream from station for irrigatino"
   ]
  },
  {
   "cell_type": "code",
   "execution_count": 21,
   "metadata": {},
   "outputs": [
    {
     "data": {
      "text/plain": [
       "26"
      ]
     },
     "execution_count": 21,
     "metadata": {},
     "output_type": "execute_result"
    }
   ],
   "source": [
    "len(study_gages)"
   ]
  },
  {
   "cell_type": "markdown",
   "metadata": {},
   "source": [
    "# The gauge selection process is complete. The next step (Part II) is to create a summary table that lists climatic, physiographic, geologic, etc. information about each basin"
   ]
  },
  {
   "cell_type": "code",
   "execution_count": 22,
   "metadata": {},
   "outputs": [],
   "source": [
    "#Create a new dataframe and populate the ID and name columns\n",
    "df = pd.DataFrame(index = list(study_gages))\n",
    "df['ids'] = df.index.astype(str)\n",
    "df['Name'] = df['ids'].map(id_name)"
   ]
  },
  {
   "cell_type": "code",
   "execution_count": 23,
   "metadata": {},
   "outputs": [],
   "source": [
    "#Read in rasters of Elevation, temperature & Precip (PRISM data), and % tree canopy cover (National land cover database)"
   ]
  },
  {
   "cell_type": "code",
   "execution_count": 24,
   "metadata": {},
   "outputs": [],
   "source": [
    "filename = '../data/Cal90mDEM_UTM.tif'\n",
    "elev = gr.from_file(filename)\n"
   ]
  },
  {
   "cell_type": "code",
   "execution_count": 25,
   "metadata": {},
   "outputs": [],
   "source": [
    "filename = '../data/PRISM_800m_30yr_TMEAN_UTM.tif'\n",
    "temp = gr.from_file(filename)\n"
   ]
  },
  {
   "cell_type": "code",
   "execution_count": 26,
   "metadata": {},
   "outputs": [],
   "source": [
    "filename = '../data/CAL_canopy_utm.tif'\n",
    "canopy = gr.from_file(filename)\n"
   ]
  },
  {
   "cell_type": "code",
   "execution_count": 27,
   "metadata": {},
   "outputs": [],
   "source": [
    "filename = '../data/PRISM_800m_30yr_PPT_UTM.tif'\n",
    "precip = gr.from_file(filename)\n"
   ]
  },
  {
   "cell_type": "code",
   "execution_count": 28,
   "metadata": {},
   "outputs": [],
   "source": [
    "#Determine the average basin canopy %, precip, etc., and add to the dataframe"
   ]
  },
  {
   "cell_type": "code",
   "execution_count": 29,
   "metadata": {},
   "outputs": [],
   "source": [
    "canopy_means = []\n",
    "for gage in df['ids']:    \n",
    "    basin_polygon = gages[gages.SITE_NO==gage].geometry\n",
    "    r_basin = canopy.clip(basin_polygon)[0]\n",
    "    canopy_means.append(r_basin.mean())\n",
    "df['Basin Mean Canopy Cover (%)'] = canopy_means\n",
    "df['Basin Mean Canopy Cover (%)'] = df['Basin Mean Canopy Cover (%)'].astype(int)"
   ]
  },
  {
   "cell_type": "code",
   "execution_count": 30,
   "metadata": {},
   "outputs": [],
   "source": [
    "precip_means = []\n",
    "for gage in df['ids']:    \n",
    "    basin_polygon = gages[gages.SITE_NO==gage].geometry\n",
    "    r_basin = precip.clip(basin_polygon)[0]\n",
    "    precip_means.append(r_basin.mean())\n",
    "df['Basin Mean Annual Precipitation (mm)'] = precip_means\n",
    "df['Basin Mean Annual Precipitation (mm)'] = df['Basin Mean Annual Precipitation (mm)'].astype(int)"
   ]
  },
  {
   "cell_type": "code",
   "execution_count": 31,
   "metadata": {},
   "outputs": [],
   "source": [
    "temp_means = []\n",
    "for gage in df['ids']:    \n",
    "    basin_polygon = gages[gages.SITE_NO==gage].geometry\n",
    "    r_basin = temp.clip(basin_polygon)[0]\n",
    "    temp_means.append(r_basin.mean())\n",
    "df['Basin Mean Annual Temperature (deg. C)'] = temp_means\n",
    "df['Basin Mean Annual Temperature (deg. C)'] = df['Basin Mean Annual Temperature (deg. C)'].round(1)"
   ]
  },
  {
   "cell_type": "code",
   "execution_count": 32,
   "metadata": {},
   "outputs": [],
   "source": [
    "elev_means = []\n",
    "for gage in df['ids']:    \n",
    "    basin_polygon = gages[gages.SITE_NO==gage].geometry\n",
    "    r_basin = elev.clip(basin_polygon)[0]\n",
    "    elev_means.append(r_basin.mean())\n",
    "df['Basin Mean Elevation (m)'] = elev_means\n",
    "df['Basin Mean Elevation (m)'] = df['Basin Mean Elevation (m)'].astype(int)"
   ]
  },
  {
   "cell_type": "code",
   "execution_count": 33,
   "metadata": {},
   "outputs": [],
   "source": [
    "# Create a dictionary that maps the land cover classification code to its description\n",
    "landcover_legend = pd.read_csv('../data/USGS_LANDCOVER_LEGEND.csv')\n",
    "landcover_dict = dict(zip(landcover_legend.Class,landcover_legend['Short Description']))"
   ]
  },
  {
   "cell_type": "code",
   "execution_count": 34,
   "metadata": {},
   "outputs": [],
   "source": [
    "land_cover_modes = []\n",
    "for gage in df['ids']:    \n",
    "    basin_polygon = gages[gages.SITE_NO==gage].geometry\n",
    "    r_basin = landcover.clip(basin_polygon)[0]\n",
    "    land_cover_modes.append(stats.mode(r_basin.raster.data.flatten())[0][0])\n",
    "\n",
    "df['Land Cover Class'] = land_cover_modes\n",
    "df['Land Cover Class'] = df['Land Cover Class'].astype(int)\n",
    "df['Dominant Land Cover'] = df['Land Cover Class'].map(landcover_dict)\n",
    "df.drop('Land Cover Class',axis=1,inplace=True)\n"
   ]
  },
  {
   "cell_type": "code",
   "execution_count": 35,
   "metadata": {},
   "outputs": [],
   "source": [
    "#add in basin area, lat, and lon\n",
    "basin_areas = []\n",
    "station_lats = []\n",
    "station_lons = []\n",
    "for gage in df['ids']:    \n",
    "    basin_area_mi2 = gages[gages.SITE_NO==gage].SQMI\n",
    "    basin_area_km2 = basin_area_mi2 * 2.58999\n",
    "    basin_areas.append(basin_area_km2)\n",
    "    if gage == '0000':\n",
    "        station_lats.append(39.5754)\n",
    "        station_lons.append(-123.4642)\n",
    "    else:\n",
    "        station_lats.append(gage_names[gage_names['SITE_NO']==gage].LAT_SITE.values[0])\n",
    "        station_lons.append(gage_names[gage_names['SITE_NO']==gage].LON_SITE.values[0])\n",
    "\n",
    "df['Basin area (km^2)'] = basin_areas\n",
    "df['Basin area (km^2)'] = df['Basin area (km^2)'].astype(int)\n",
    "df['Gage Latitude'] = station_lats\n",
    "df['Gage Longitude'] = station_lons"
   ]
  },
  {
   "cell_type": "code",
   "execution_count": 36,
   "metadata": {},
   "outputs": [
    {
     "data": {
      "text/html": [
       "<div>\n",
       "<style scoped>\n",
       "    .dataframe tbody tr th:only-of-type {\n",
       "        vertical-align: middle;\n",
       "    }\n",
       "\n",
       "    .dataframe tbody tr th {\n",
       "        vertical-align: top;\n",
       "    }\n",
       "\n",
       "    .dataframe thead th {\n",
       "        text-align: right;\n",
       "    }\n",
       "</style>\n",
       "<table border=\"1\" class=\"dataframe\">\n",
       "  <thead>\n",
       "    <tr style=\"text-align: right;\">\n",
       "      <th></th>\n",
       "      <th>OBJECTID</th>\n",
       "      <th>FID_study_basins</th>\n",
       "      <th>SITE_NO</th>\n",
       "      <th>SQMI</th>\n",
       "      <th>ABS_DIFF</th>\n",
       "      <th>FID_cageol_poly_dd</th>\n",
       "      <th>AREA</th>\n",
       "      <th>PERIMETER</th>\n",
       "      <th>CAGEOL_DD_</th>\n",
       "      <th>CAGEOL_DD1</th>\n",
       "      <th>ORIG_LABEL</th>\n",
       "      <th>SGMC_LABEL</th>\n",
       "      <th>UNIT_LINK</th>\n",
       "      <th>SOURCE</th>\n",
       "      <th>UNIT_AGE</th>\n",
       "      <th>ROCKTYPE1</th>\n",
       "      <th>ROCKTYPE2</th>\n",
       "      <th>Shape_Length</th>\n",
       "      <th>Shape_Area</th>\n",
       "    </tr>\n",
       "  </thead>\n",
       "  <tbody>\n",
       "    <tr>\n",
       "      <th>0</th>\n",
       "      <td>1</td>\n",
       "      <td>0</td>\n",
       "      <td>11046300</td>\n",
       "      <td>80.939803</td>\n",
       "      <td>0.00173</td>\n",
       "      <td>11254</td>\n",
       "      <td>0.344374</td>\n",
       "      <td>18.111147</td>\n",
       "      <td>11256</td>\n",
       "      <td>12009</td>\n",
       "      <td>grMz</td>\n",
       "      <td>grMZ2;0</td>\n",
       "      <td>CAgrMZ2;0</td>\n",
       "      <td>CA001</td>\n",
       "      <td>Middle Jurassic to Late Cretaceous</td>\n",
       "      <td>tonalite</td>\n",
       "      <td>quartz diorite</td>\n",
       "      <td>120867.218635</td>\n",
       "      <td>1.166864e+08</td>\n",
       "    </tr>\n",
       "    <tr>\n",
       "      <th>1</th>\n",
       "      <td>2</td>\n",
       "      <td>0</td>\n",
       "      <td>11046300</td>\n",
       "      <td>80.939803</td>\n",
       "      <td>0.00173</td>\n",
       "      <td>11338</td>\n",
       "      <td>0.005078</td>\n",
       "      <td>0.591551</td>\n",
       "      <td>11340</td>\n",
       "      <td>4290</td>\n",
       "      <td>K</td>\n",
       "      <td>K1;0</td>\n",
       "      <td>CAK1;0</td>\n",
       "      <td>CA001</td>\n",
       "      <td>Early to Late Cretaceous</td>\n",
       "      <td>mudstone</td>\n",
       "      <td>sandstone</td>\n",
       "      <td>6862.682224</td>\n",
       "      <td>6.168842e+05</td>\n",
       "    </tr>\n",
       "    <tr>\n",
       "      <th>2</th>\n",
       "      <td>3</td>\n",
       "      <td>0</td>\n",
       "      <td>11046300</td>\n",
       "      <td>80.939803</td>\n",
       "      <td>0.00173</td>\n",
       "      <td>11348</td>\n",
       "      <td>0.000055</td>\n",
       "      <td>0.038878</td>\n",
       "      <td>11350</td>\n",
       "      <td>4289</td>\n",
       "      <td>Qv</td>\n",
       "      <td>Qv8;0</td>\n",
       "      <td>CAQv8;0</td>\n",
       "      <td>CA001</td>\n",
       "      <td>Quaternary</td>\n",
       "      <td>basalt</td>\n",
       "      <td></td>\n",
       "      <td>1768.828032</td>\n",
       "      <td>1.421323e+05</td>\n",
       "    </tr>\n",
       "    <tr>\n",
       "      <th>3</th>\n",
       "      <td>4</td>\n",
       "      <td>0</td>\n",
       "      <td>11046300</td>\n",
       "      <td>80.939803</td>\n",
       "      <td>0.00173</td>\n",
       "      <td>11349</td>\n",
       "      <td>0.000724</td>\n",
       "      <td>0.158108</td>\n",
       "      <td>11351</td>\n",
       "      <td>4295</td>\n",
       "      <td>gb</td>\n",
       "      <td>gb2;0</td>\n",
       "      <td>CAgb2;0</td>\n",
       "      <td>CA001</td>\n",
       "      <td>Triassic to Cretaceous</td>\n",
       "      <td>gabbro</td>\n",
       "      <td>diorite</td>\n",
       "      <td>16370.143020</td>\n",
       "      <td>7.379422e+06</td>\n",
       "    </tr>\n",
       "    <tr>\n",
       "      <th>4</th>\n",
       "      <td>5</td>\n",
       "      <td>0</td>\n",
       "      <td>11046300</td>\n",
       "      <td>80.939803</td>\n",
       "      <td>0.00173</td>\n",
       "      <td>11350</td>\n",
       "      <td>0.002738</td>\n",
       "      <td>0.450280</td>\n",
       "      <td>11352</td>\n",
       "      <td>4300</td>\n",
       "      <td>J</td>\n",
       "      <td>J4;0</td>\n",
       "      <td>CAJ4;0</td>\n",
       "      <td>CA001</td>\n",
       "      <td>Paleozoic(?) to Late Jurassic</td>\n",
       "      <td>argillite</td>\n",
       "      <td>graywacke</td>\n",
       "      <td>26231.713077</td>\n",
       "      <td>1.386198e+07</td>\n",
       "    </tr>\n",
       "  </tbody>\n",
       "</table>\n",
       "</div>"
      ],
      "text/plain": [
       "   OBJECTID  FID_study_basins   SITE_NO       SQMI  ABS_DIFF  \\\n",
       "0         1                 0  11046300  80.939803   0.00173   \n",
       "1         2                 0  11046300  80.939803   0.00173   \n",
       "2         3                 0  11046300  80.939803   0.00173   \n",
       "3         4                 0  11046300  80.939803   0.00173   \n",
       "4         5                 0  11046300  80.939803   0.00173   \n",
       "\n",
       "   FID_cageol_poly_dd      AREA  PERIMETER  CAGEOL_DD_  CAGEOL_DD1 ORIG_LABEL  \\\n",
       "0               11254  0.344374  18.111147       11256       12009       grMz   \n",
       "1               11338  0.005078   0.591551       11340        4290          K   \n",
       "2               11348  0.000055   0.038878       11350        4289         Qv   \n",
       "3               11349  0.000724   0.158108       11351        4295         gb   \n",
       "4               11350  0.002738   0.450280       11352        4300          J   \n",
       "\n",
       "  SGMC_LABEL  UNIT_LINK SOURCE                            UNIT_AGE  ROCKTYPE1  \\\n",
       "0    grMZ2;0  CAgrMZ2;0  CA001  Middle Jurassic to Late Cretaceous   tonalite   \n",
       "1       K1;0     CAK1;0  CA001            Early to Late Cretaceous   mudstone   \n",
       "2      Qv8;0    CAQv8;0  CA001                          Quaternary     basalt   \n",
       "3      gb2;0    CAgb2;0  CA001              Triassic to Cretaceous     gabbro   \n",
       "4       J4;0     CAJ4;0  CA001       Paleozoic(?) to Late Jurassic  argillite   \n",
       "\n",
       "        ROCKTYPE2   Shape_Length    Shape_Area  \n",
       "0  quartz diorite  120867.218635  1.166864e+08  \n",
       "1       sandstone    6862.682224  6.168842e+05  \n",
       "2                    1768.828032  1.421323e+05  \n",
       "3         diorite   16370.143020  7.379422e+06  \n",
       "4       graywacke   26231.713077  1.386198e+07  "
      ]
     },
     "execution_count": 36,
     "metadata": {},
     "output_type": "execute_result"
    }
   ],
   "source": [
    "# Add in the dominant geology, based on this source\n",
    "# https://mrdata.usgs.gov/geology/state/state.php?state=CA\n",
    "# Jennings, C.W., Strand, R.G., and Rogers, T.H., 1977, Geologic map of California: California Division of Mines and Geology, scale 1:750,000. \n",
    "\n",
    "# Open-File Report (2005-1305)\n",
    "# Preliminary integrated geologic map databases for the United States\n",
    "# Western States: California, Nevada, Arizona, Washington, Oregon, Idaho, and Utah\n",
    "# Version 1.3\n",
    "# Updated December 2007\n",
    "# By: Steve Ludington, Barry C. Moring, Robert J. Miller, Paul A. Stone, Arthur A. Bookstrom, David R. Bedford, James G. Evans, Gordon A. Haxel, Contstance J. Nutt, Kathryn S. Flyn and Melanie J. Hopkins \n",
    "#The basin geology has been intersected previously in ArcGIS, creating the following output table\n",
    "gages_geol = pd.read_csv('../data/StudyBasins_CalGeol_ArcGIS-Intersect.csv')\n",
    "gages_geol.head()"
   ]
  },
  {
   "cell_type": "code",
   "execution_count": 37,
   "metadata": {},
   "outputs": [
    {
     "data": {
      "text/html": [
       "<div>\n",
       "<style scoped>\n",
       "    .dataframe tbody tr th:only-of-type {\n",
       "        vertical-align: middle;\n",
       "    }\n",
       "\n",
       "    .dataframe tbody tr th {\n",
       "        vertical-align: top;\n",
       "    }\n",
       "\n",
       "    .dataframe thead th {\n",
       "        text-align: right;\n",
       "    }\n",
       "</style>\n",
       "<table border=\"1\" class=\"dataframe\">\n",
       "  <thead>\n",
       "    <tr style=\"text-align: right;\">\n",
       "      <th></th>\n",
       "      <th>STATE</th>\n",
       "      <th>ORIG_LABEL</th>\n",
       "      <th>MAP_SYM1</th>\n",
       "      <th>MAP_SYM2</th>\n",
       "      <th>UNIT_LINK</th>\n",
       "      <th>PROV_NO</th>\n",
       "      <th>PROVINCE</th>\n",
       "      <th>UNIT_NAME</th>\n",
       "      <th>UNIT_AGE</th>\n",
       "      <th>UNITDESC</th>\n",
       "      <th>STRAT_UNIT</th>\n",
       "      <th>UNIT_COM</th>\n",
       "      <th>MAP_REF</th>\n",
       "      <th>ROCKTYPE1</th>\n",
       "      <th>ROCKTYPE2</th>\n",
       "      <th>ROCKTYPE3</th>\n",
       "      <th>UNIT_REF</th>\n",
       "    </tr>\n",
       "  </thead>\n",
       "  <tbody>\n",
       "    <tr>\n",
       "      <th>0</th>\n",
       "      <td>CA</td>\n",
       "      <td>C</td>\n",
       "      <td>C1</td>\n",
       "      <td>C1;0</td>\n",
       "      <td>CAC1;0</td>\n",
       "      <td>0</td>\n",
       "      <td>NaN</td>\n",
       "      <td>Carboniferous marine rocks, unit 1 (Western Mo...</td>\n",
       "      <td>Late Proterozoic to Pennsylvanian</td>\n",
       "      <td>Shale, sandstone, conglomerate, limestone, dol...</td>\n",
       "      <td>Furnace Limestone, Oro Grande Series, Bird Spr...</td>\n",
       "      <td>Southern California (San Bernardino Mountains ...</td>\n",
       "      <td>CA001</td>\n",
       "      <td>marble</td>\n",
       "      <td>limestone</td>\n",
       "      <td>dolostone (dolomite); schist; quartzite; hornfels</td>\n",
       "      <td>CA001\u000b",
       "CA002\u000b",
       "CA016\u000b",
       "CA032\u000b",
       "CA046\u000b",
       "CA067\u000b",
       "CA098\u000b",
       "CA09...</td>\n",
       "    </tr>\n",
       "    <tr>\n",
       "      <th>1</th>\n",
       "      <td>CA</td>\n",
       "      <td>C</td>\n",
       "      <td>C2</td>\n",
       "      <td>C2;0</td>\n",
       "      <td>CAC2;0</td>\n",
       "      <td>0</td>\n",
       "      <td>NaN</td>\n",
       "      <td>Carboniferous marine rocks, unit 2 (SE Califor...</td>\n",
       "      <td>Mississippian to Early Permian</td>\n",
       "      <td>Shale, sandstone, conglomerate, limestone, dol...</td>\n",
       "      <td>Anvil Spring Fm., Bird Spring Fm. (part), Tihv...</td>\n",
       "      <td>Southeastern California carbonate assemblage (...</td>\n",
       "      <td>CA001</td>\n",
       "      <td>limestone</td>\n",
       "      <td>mudstone</td>\n",
       "      <td>sandstone</td>\n",
       "      <td>CA001\u000b",
       "CA002\u000b",
       "CA006\u000b",
       "CA008\u000b",
       "CA012\u000b",
       "CA025\u000b",
       "CA043\u000b",
       "CA07...</td>\n",
       "    </tr>\n",
       "    <tr>\n",
       "      <th>2</th>\n",
       "      <td>CA</td>\n",
       "      <td>C</td>\n",
       "      <td>C3</td>\n",
       "      <td>C3;0</td>\n",
       "      <td>CAC3;0</td>\n",
       "      <td>0</td>\n",
       "      <td>NaN</td>\n",
       "      <td>Carboniferous marine rocks, unit 3 (SE Califor...</td>\n",
       "      <td>Late Devonian to Early Permian</td>\n",
       "      <td>Shale, sandstone, conglomerate, limestone, dol...</td>\n",
       "      <td>Keeler Canyon Fm., Tihvipah Limestone, Rest Sp...</td>\n",
       "      <td>Southeastern California clastic assemblage (no...</td>\n",
       "      <td>CA001</td>\n",
       "      <td>shale</td>\n",
       "      <td>limestone</td>\n",
       "      <td>argillite; siltstone; conglomerate; chert</td>\n",
       "      <td>CA001\u000b",
       "CA002\u000b",
       "CA006\u000b",
       "CA007\u000b",
       "CA011\u000b",
       "CA043\u000b",
       "CA072\u000b",
       "CA07...</td>\n",
       "    </tr>\n",
       "    <tr>\n",
       "      <th>3</th>\n",
       "      <td>CA</td>\n",
       "      <td>C</td>\n",
       "      <td>C4</td>\n",
       "      <td>C4;0</td>\n",
       "      <td>CAC4;0</td>\n",
       "      <td>0</td>\n",
       "      <td>NaN</td>\n",
       "      <td>Carboniferous marine rocks, unit 4 (Eastern Kl...</td>\n",
       "      <td>Mississippian to Early Permian</td>\n",
       "      <td>Shale, sandstone, conglomerate, limestone, dol...</td>\n",
       "      <td>Baird Fm., Bass Mountain Diabase (part), Bragd...</td>\n",
       "      <td>Eastern Klamath Mountains. Consists primarily ...</td>\n",
       "      <td>CA001</td>\n",
       "      <td>mudstone</td>\n",
       "      <td>pyroclastic</td>\n",
       "      <td>conglomerate; sandstone; limestone; greenstone</td>\n",
       "      <td>CA001\u000b",
       "CA002\u000b",
       "CA013\u000b",
       "CA028\u000b",
       "CA034\u000b",
       "CA036\u000b",
       "CA039\u000b",
       "CA15...</td>\n",
       "    </tr>\n",
       "    <tr>\n",
       "      <th>4</th>\n",
       "      <td>CA</td>\n",
       "      <td>C</td>\n",
       "      <td>C5</td>\n",
       "      <td>C5;0</td>\n",
       "      <td>CAC5;0</td>\n",
       "      <td>0</td>\n",
       "      <td>NaN</td>\n",
       "      <td>Carboniferous marine rocks, unit 5 (Northweste...</td>\n",
       "      <td>Paleozoic or Mesozoic</td>\n",
       "      <td>Shale, sandstone, conglomerate, limestone, dol...</td>\n",
       "      <td>NaN</td>\n",
       "      <td>Northwestern Sierra Nevada. Composed of quartz...</td>\n",
       "      <td>CA001</td>\n",
       "      <td>quartzite</td>\n",
       "      <td>chert</td>\n",
       "      <td>NaN</td>\n",
       "      <td>CA001\u000b",
       "CA002\u000b",
       "CA030\u000b",
       "CA179\u000b",
       "CA180</td>\n",
       "    </tr>\n",
       "  </tbody>\n",
       "</table>\n",
       "</div>"
      ],
      "text/plain": [
       "  STATE ORIG_LABEL MAP_SYM1 MAP_SYM2 UNIT_LINK  PROV_NO  PROVINCE  \\\n",
       "0    CA          C       C1     C1;0    CAC1;0        0       NaN   \n",
       "1    CA          C       C2     C2;0    CAC2;0        0       NaN   \n",
       "2    CA          C       C3     C3;0    CAC3;0        0       NaN   \n",
       "3    CA          C       C4     C4;0    CAC4;0        0       NaN   \n",
       "4    CA          C       C5     C5;0    CAC5;0        0       NaN   \n",
       "\n",
       "                                           UNIT_NAME  \\\n",
       "0  Carboniferous marine rocks, unit 1 (Western Mo...   \n",
       "1  Carboniferous marine rocks, unit 2 (SE Califor...   \n",
       "2  Carboniferous marine rocks, unit 3 (SE Califor...   \n",
       "3  Carboniferous marine rocks, unit 4 (Eastern Kl...   \n",
       "4  Carboniferous marine rocks, unit 5 (Northweste...   \n",
       "\n",
       "                            UNIT_AGE  \\\n",
       "0  Late Proterozoic to Pennsylvanian   \n",
       "1     Mississippian to Early Permian   \n",
       "2     Late Devonian to Early Permian   \n",
       "3     Mississippian to Early Permian   \n",
       "4              Paleozoic or Mesozoic   \n",
       "\n",
       "                                            UNITDESC  \\\n",
       "0  Shale, sandstone, conglomerate, limestone, dol...   \n",
       "1  Shale, sandstone, conglomerate, limestone, dol...   \n",
       "2  Shale, sandstone, conglomerate, limestone, dol...   \n",
       "3  Shale, sandstone, conglomerate, limestone, dol...   \n",
       "4  Shale, sandstone, conglomerate, limestone, dol...   \n",
       "\n",
       "                                          STRAT_UNIT  \\\n",
       "0  Furnace Limestone, Oro Grande Series, Bird Spr...   \n",
       "1  Anvil Spring Fm., Bird Spring Fm. (part), Tihv...   \n",
       "2  Keeler Canyon Fm., Tihvipah Limestone, Rest Sp...   \n",
       "3  Baird Fm., Bass Mountain Diabase (part), Bragd...   \n",
       "4                                                NaN   \n",
       "\n",
       "                                            UNIT_COM MAP_REF  ROCKTYPE1  \\\n",
       "0  Southern California (San Bernardino Mountains ...   CA001     marble   \n",
       "1  Southeastern California carbonate assemblage (...   CA001  limestone   \n",
       "2  Southeastern California clastic assemblage (no...   CA001      shale   \n",
       "3  Eastern Klamath Mountains. Consists primarily ...   CA001   mudstone   \n",
       "4  Northwestern Sierra Nevada. Composed of quartz...   CA001  quartzite   \n",
       "\n",
       "     ROCKTYPE2                                          ROCKTYPE3  \\\n",
       "0    limestone  dolostone (dolomite); schist; quartzite; hornfels   \n",
       "1     mudstone                                          sandstone   \n",
       "2    limestone          argillite; siltstone; conglomerate; chert   \n",
       "3  pyroclastic     conglomerate; sandstone; limestone; greenstone   \n",
       "4        chert                                                NaN   \n",
       "\n",
       "                                            UNIT_REF  \n",
       "0  CA001\n",
       "CA002\n",
       "CA016\n",
       "CA032\n",
       "CA046\n",
       "CA067\n",
       "CA098\n",
       "CA09...  \n",
       "1  CA001\n",
       "CA002\n",
       "CA006\n",
       "CA008\n",
       "CA012\n",
       "CA025\n",
       "CA043\n",
       "CA07...  \n",
       "2  CA001\n",
       "CA002\n",
       "CA006\n",
       "CA007\n",
       "CA011\n",
       "CA043\n",
       "CA072\n",
       "CA07...  \n",
       "3  CA001\n",
       "CA002\n",
       "CA013\n",
       "CA028\n",
       "CA034\n",
       "CA036\n",
       "CA039\n",
       "CA15...  \n",
       "4                     CA001\n",
       "CA002\n",
       "CA030\n",
       "CA179\n",
       "CA180\n",
       "  "
      ]
     },
     "execution_count": 37,
     "metadata": {},
     "output_type": "execute_result"
    }
   ],
   "source": [
    "# read in a metadata file that pairs the geology unit code with the unit description\n",
    "geol_unit_descrip = pd.read_csv('../data/CAunits.csv')\n",
    "geol_unit_descrip.head()"
   ]
  },
  {
   "cell_type": "code",
   "execution_count": 38,
   "metadata": {},
   "outputs": [],
   "source": [
    "#Get the largest by area..\n",
    "dominant_geol = gages_geol.sort_values('Shape_Area', ascending=False).drop_duplicates(['SITE_NO'])\n",
    "#merge with the unit description\n",
    "merged_geol = pd.merge(dominant_geol, geol_unit_descrip,how='inner',on='UNIT_LINK')"
   ]
  },
  {
   "cell_type": "code",
   "execution_count": 39,
   "metadata": {},
   "outputs": [],
   "source": [
    "merged_geol['SITE_NO']=merged_geol['SITE_NO'].astype(str)"
   ]
  },
  {
   "cell_type": "code",
   "execution_count": 40,
   "metadata": {},
   "outputs": [],
   "source": [
    "#add dry creek's special #\n",
    "merged_geol.at[19,'SITE_NO'] = '0000'\n"
   ]
  },
  {
   "cell_type": "code",
   "execution_count": 41,
   "metadata": {},
   "outputs": [],
   "source": [
    "#Merge the geology dataframe with the other data\n",
    "merged_df = pd.merge(df,merged_geol.loc[:,['SITE_NO','UNITDESC']],left_on='ids',right_on='SITE_NO')\n",
    "merged_df.drop('ids',axis=1,inplace=True)\n",
    "merged_df.rename(columns={'UNITDESC': 'Dominant lithology'}, inplace=True)"
   ]
  },
  {
   "cell_type": "code",
   "execution_count": 42,
   "metadata": {},
   "outputs": [],
   "source": [
    "#Finally, output the summary data table\n",
    "merged_df.to_csv('../data/Table S2.csv',index=False)"
   ]
  }
 ],
 "metadata": {
  "kernelspec": {
   "display_name": "py3k",
   "language": "python",
   "name": "py3k"
  },
  "language_info": {
   "codemirror_mode": {
    "name": "ipython",
    "version": 3
   },
   "file_extension": ".py",
   "mimetype": "text/x-python",
   "name": "python",
   "nbconvert_exporter": "python",
   "pygments_lexer": "ipython3",
   "version": "3.6.7"
  }
 },
 "nbformat": 4,
 "nbformat_minor": 2
}
