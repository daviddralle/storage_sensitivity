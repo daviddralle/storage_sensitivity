{
 "cells": [
  {
   "cell_type": "code",
   "execution_count": null,
   "metadata": {},
   "outputs": [],
   "source": [
    "%matplotlib inline\n",
    "import os\n",
    "import sys\n",
    "from matplotlib import pyplot as plt\n",
    "import numpy as np\n",
    "import seaborn as sns\n",
    "import glob\n",
    "import scipy\n",
    "import matplotlib\n",
    "import pickle\n",
    "import geopandas as gp\n",
    "import datetime\n",
    "import pyproj\n",
    "import georasters as gr\n",
    "from datetime import date\n",
    "import pandas as pd\n",
    "import rasterio\n",
    "from scipy import stats as stats\n",
    "sns.reset_orig()"
   ]
  },
  {
   "cell_type": "code",
   "execution_count": 2,
   "metadata": {},
   "outputs": [],
   "source": [
    "\n",
    "\n",
    "sitelist = [str(item) for item in [ 11154700, 11299600, 11180825, 11449500, 11046300,\n",
    "       11141280, 11180960, 11200800, 11182500, 11379500, 11284400,\n",
    "       11224500, 11253310, 11151300, 11469000, 11111500, 11134800,\n",
    "       11172945, 11176400, 11132500, 11475800, 11046360, 11180900,\n",
    "       11475560, 11476600]]\n",
    "\n",
    "basins_df = gp.read_file('../data/basins/basins18_utm.shp')[['SITE_NO', 'geometry']]\n",
    "usgs_df = gp.read_file('../data/USGS_gages/USGS_Streamgages-NHD_Locations.shp')[['SITE_NO', 'STATION_NM']]\n",
    "sites = basins_df.merge(usgs_df, on='SITE_NO').set_index('SITE_NO').loc[sitelist]\n",
    "sites['gauge_id'] = sites.index\n",
    "\n",
    "# plug in dry creek polygon\n",
    "dry = gp.read_file('../data/dry_creek_polygon/dry.shp')\n",
    "sites = sites.append({'gauge_id':'00000000', 'geometry':dry.geometry.values[0], 'STATION_NM':'Dry Creek'}, ignore_index=True)\n",
    "sites.index = sites.gauge_id"
   ]
  },
  {
   "cell_type": "code",
   "execution_count": 4,
   "metadata": {},
   "outputs": [],
   "source": [
    "import json\n",
    "import fiona\n",
    "from shapely.geometry import shape \n",
    "\n",
    "#Read data\n",
    "collection = list(fiona.open('../data/fire_history_utm.shp','r'))\n",
    "df1 = pd.DataFrame(collection)\n",
    "\n",
    "#Check Geometry\n",
    "def isvalid(geom):\n",
    "    try:\n",
    "        shape(geom)\n",
    "        return 1\n",
    "    except:\n",
    "        return 0\n",
    "df1['isvalid'] = df1['geometry'].apply(lambda x: isvalid(x))\n",
    "df1 = df1[df1['isvalid'] == 1]\n",
    "collection = json.loads(df1.to_json(orient='records'))\n",
    "\n",
    "#Convert to geodataframe\n",
    "fires = gp.GeoDataFrame.from_features(collection)\n",
    "fires = fires[['geometry', 'YEAR_']]"
   ]
  },
  {
   "cell_type": "code",
   "execution_count": 5,
   "metadata": {},
   "outputs": [],
   "source": [
    "g1 = fires.geometry.values\n",
    "years = fires['YEAR_'].values\n",
    "percentage_threshold = 0.0\n",
    "fire_years = []\n",
    "fire_gauges = []\n",
    "fracs = []\n",
    "for i,site in sites.iterrows():\n",
    "    poly = site.geometry\n",
    "    gauge = site.gauge_id\n",
    "    area = site.geometry.area \n",
    "    for j,fire in enumerate(g1):\n",
    "        overlay = fire.intersection(poly)\n",
    "        if overlay.area/area > percentage_threshold:\n",
    "            fire_years.append(years[j])\n",
    "            fire_gauges.append(gauge)\n",
    "            fracs.append(overlay.area/area)\n",
    "\n",
    "site_fires = pd.DataFrame({'fire_year':fire_years, 'fraction_catchment':fracs})\n",
    "site_fires.index = fire_gauges"
   ]
  },
  {
   "cell_type": "code",
   "execution_count": 7,
   "metadata": {},
   "outputs": [],
   "source": [
    "site_fires.to_csv('../data/site_fires.csv')"
   ]
  }
 ],
 "metadata": {
  "kernelspec": {
   "display_name": "Python [conda env:py3k]",
   "language": "python",
   "name": "conda-env-py3k-py"
  },
  "language_info": {
   "codemirror_mode": {
    "name": "ipython",
    "version": 3
   },
   "file_extension": ".py",
   "mimetype": "text/x-python",
   "name": "python",
   "nbconvert_exporter": "python",
   "pygments_lexer": "ipython3",
   "version": "3.5.5"
  }
 },
 "nbformat": 4,
 "nbformat_minor": 2
}
